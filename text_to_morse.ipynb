{
 "cells": [
  {
   "cell_type": "code",
   "execution_count": 12,
   "metadata": {},
   "outputs": [],
   "source": [
    "import winsound\n",
    "from winsound import PlaySound as play\n",
    "import pygame\n",
    "import string\n",
    "import itertools\n",
    "import speech_recognition as sr"
   ]
  },
  {
   "cell_type": "code",
   "execution_count": 13,
   "metadata": {},
   "outputs": [
    {
     "data": {
      "text/plain": [
       "(5, 0)"
      ]
     },
     "execution_count": 13,
     "metadata": {},
     "output_type": "execute_result"
    }
   ],
   "source": [
    "pygame.init()"
   ]
  },
  {
   "cell_type": "code",
   "execution_count": null,
   "metadata": {},
   "outputs": [],
   "source": [
    "\n"
   ]
  },
  {
   "cell_type": "code",
   "execution_count": 14,
   "metadata": {},
   "outputs": [],
   "source": [
    "\n",
    "letters = {\n",
    "    'a': [\"dot.wav\", \"inlet.wav\", \"dash.wav\", \"inlet.wav\", \"letter.wav\"],\n",
    "    'b': [\"dash.wav\", \"inlet.wav\", \"dot.wav\", \"inlet.wav\", \"dot.wav\", \"inlet.wav\", \"dot.wav\", \"inlet.wav\", \"dot.wav\", \"inlet.wav\", \"letter.wav\"],\n",
    "    'c': [\"dash.wav\", \"inlet.wav\", \"dot.wav\", \"inlet.wav\", \"dash.wav\", \"inlet.wav\", \"dot.wav\", \"inlet.wav\", \"letter.wav\"],\n",
    "    'd': [\"dash.wav\", \"inlet.wav\", \"dot.wav\", \"inlet.wav\", \"dot.wav\", \"inlet.wav\", \"letter.wav\"],\n",
    "    'e': [\"dot.wav\", \"inlet.wav\", \"letter.wav\"],\n",
    "    'f': [\"dot.wav\", \"inlet.wav\", \"dot.wav\", \"inlet.wav\", \"dash.wav\", \"inlet.wav\", \"dot.wav\", \"inlet.wav\", \"letter.wav\"],\n",
    "    'g': [\"dash.wav\", \"inlet.wav\", \"dash.wav\", \"inlet.wav\", \"dot.wav\", \"inlet.wav\", \"letter.wav\"],\n",
    "    'h': [\"dot.wav\", \"inlet.wav\", \"dot.wav\", \"inlet.wav\", \"dot.wav\", \"inlet.wav\", \"dot.wav\", \"inlet.wav\", \"letter.wav\"],\n",
    "    'i': [\"dot.wav\", \"inlet.wav\", \"dot.wav\", \"inlet.wav\", \"letter.wav\"],\n",
    "    'j': [\"dot.wav\", \"inlet.wav\", \"dash.wav\", \"inlet.wav\", \"dash.wav\", \"inlet.wav\", \"dash.wav\", \"inlet.wav\", \"letter.wav\"],\n",
    "    'k': [\"dash.wav\", \"inlet.wav\", \"dot.wav\", \"inlet.wav\", \"dash.wav\", \"inlet.wav\", \"letter.wav\"],\n",
    "    'l': [\"dot.wav\", \"inlet.wav\", \"dash.wav\", \"inlet.wav\", \"dot.wav\", \"inlet.wav\", \"dot.wav\", \"inlet.wav\", \"letter.wav\"],\n",
    "    'm': [\"dash.wav\", \"inlet.wav\", \"dash.wav\", \"inlet.wav\", \"letter.wav\"],\n",
    "    'n': [\"dash.wav\", \"inlet.wav\", \"dot.wav\", \"inlet.wav\", \"letter.wav\"],\n",
    "    'o': [\"dash.wav\", \"inlet.wav\", \"dash.wav\", \"inlet.wav\", \"dash.wav\", \"inlet.wav\", \"letter.wav\"],\n",
    "    'p': [\"dot.wav\", \"inlet.wav\", \"dash.wav\", \"inlet.wav\", \"dash.wav\", \"inlet.wav\", \"dot.wav\", \"inlet.wav\", \"letter.wav\"],\n",
    "    'q': [\"dash.wav\", \"inlet.wav\", \"dash.wav\", \"inlet.wav\", \"dot.wav\", \"inlet.wav\", \"dash.wav\", \"inlet.wav\", \"letter.wav\"],\n",
    "    'r': [\"dot.wav\", \"inlet.wav\", \"dash.wav\", \"inlet.wav\", \"dot.wav\", \"inlet.wav\", \"letter.wav\"],\n",
    "    's': [\"dot.wav\", \"inlet.wav\", \"dot.wav\", \"inlet.wav\", \"dot.wav\", \"inlet.wav\", \"letter.wav\"],\n",
    "    't': [\"dash.wav\", \"inlet.wav\", \"letter.wav\"],\n",
    "    'u': [\"dot.wav\", \"inlet.wav\", \"dot.wav\", \"inlet.wav\", \"dash.wav\", \"inlet.wav\"],\n",
    "    'v': [\"dot.wav\", \"inlet.wav\", \"dot.wav\", \"inlet.wav\", \"dot.wav\", \"inlet.wav\", \"dash.wav\", \"inlet.wav\", \"letter.wav\"],\n",
    "    'w': [\"dot.wav\", \"inlet.wav\", \"dash.wav\", \"inlet.wav\", \"dash.wav\", \"inlet.wav\", \"letter.wav\"],\n",
    "    'x': [\"dash.wav\", \"inlet.wav\", \"dot.wav\", \"inlet.wav\", \"dot.wav\", \"inlet.wav\", \"dash.wav\", \"inlet.wav\", \"letter.wav\"],\n",
    "    'y': [\"dash.wav\", \"inlet.wav\", \"dot.wav\", \"inlet.wav\", \"dash.wav\", \"inlet.wav\", \"dash.wav\", \"inlet.wav\", \"letter.wav\"],\n",
    "    'z': [\"dash.wav\", \"inlet.wav\", \"dash.wav\", \"inlet.wav\", \"dot.wav\", \"inlet.wav\", \"dot.wav\", \"inlet.wav\", \"letter.wav\"],\n",
    "    '1': [\"dot.wav\", \"inlet.wav\", \"dash.wav\", \"inlet.wav\", \"dash.wav\", \"inlet.wav\", \"dash.wav\", \"inlet.wav\", \"dash.wav\", \"inlet.wav\", \"dash.wav\", \"inlet.wav\", \"letter.wav\"],\n",
    "    '2': [\"dot.wav\", \"inlet.wav\", \"dot.wav\", \"inlet.wav\", \"dash.wav\", \"inlet.wav\", \"dash.wav\", \"inlet.wav\", \"dash.wav\", \"inlet.wav\", \"dash.wav\", \"inlet.wav\", \"letter.wav\"],\n",
    "    '3': [\"dot.wav\", \"inlet.wav\", \"dot.wav\", \"inlet.wav\", \"dot.wav\", \"inlet.wav\", \"dash.wav\", \"inlet.wav\", \"dash.wav\", \"inlet.wav\", \"dash.wav\", \"inlet.wav\", \"letter.wav\"],\n",
    "    '4': [\"dot.wav\", \"inlet.wav\", \"dot.wav\", \"inlet.wav\", \"dot.wav\", \"inlet.wav\", \"dot.wav\", \"inlet.wav\", \"dash.wav\", \"inlet.wav\", \"dash.wav\", \"inlet.wav\", \"letter.wav\"],\n",
    "    '5': [\"dot.wav\", \"inlet.wav\", \"dot.wav\", \"inlet.wav\", \"dot.wav\", \"inlet.wav\", \"dot.wav\", \"inlet.wav\", \"dot.wav\", \"inlet.wav\", \"dot.wav\", \"inlet.wav\", \"dot.wav\", \"inlet.wav\", \"letter.wav\"],\n",
    "    '6': [\"dash.wav\", \"inlet.wav\", \"dot.wav\", \"inlet.wav\", \"dot.wav\", \"inlet.wav\", \"dot.wav\", \"inlet.wav\", \"dot.wav\", \"inlet.wav\", \"letter.wav\"],\n",
    "    '7': [\"dash.wav\", \"inlet.wav\", \"dash.wav\", \"inlet.wav\", \"dot.wav\", \"inlet.wav\", \"dot.wav\", \"inlet.wav\", \"dot.wav\", \"inlet.wav\", \"letter.wav\"],\n",
    "    '8': [\"dash.wav\", \"inlet.wav\", \"dash.wav\", \"inlet.wav\", \"dash.wav\", \"inlet.wav\", \"dot.wav\", \"inlet.wav\", \"dot.wav\", \"inlet.wav\", \"letter.wav\"],\n",
    "    '9': [\"dash.wav\", \"inlet.wav\", \"dash.wav\", \"inlet.wav\", \"dash.wav\", \"inlet.wav\", \"dash.wav\", \"inlet.wav\", \"dot.wav\", \"inlet.wav\", \"letter.wav\"],\n",
    "    '0': [\"dash.wav\", \"inlet.wav\", \"dash.wav\", \"inlet.wav\", \"dash.wav\", \"inlet.wav\"\"dash.wav\", \"inlet.wav\",\"dash.wav\", \"inlet.wav\",\"letter.wav\"],\n",
    "    ' ' : [\"word.wav\"]\n",
    "    }\n"
   ]
  },
  {
   "cell_type": "code",
   "execution_count": 15,
   "metadata": {},
   "outputs": [
    {
     "name": "stdout",
     "output_type": "stream",
     "text": [
      "Listening...\n",
      "hello\n"
     ]
    },
    {
     "data": {
      "text/plain": [
       "['h', 'e', 'l', 'l', 'o']"
      ]
     },
     "execution_count": 15,
     "metadata": {},
     "output_type": "execute_result"
    }
   ],
   "source": [
    "r = sr.Recognizer()\n",
    "\n",
    "with sr.Microphone() as source:\n",
    "    print(\"Listening...\")\n",
    "    while True:\n",
    "        audio = r.listen(source)\n",
    "        try:\n",
    "            text = r.recognize_google(audio)\n",
    "            print(text)\n",
    "            break\n",
    "        except:\n",
    "            print(\"nothing recognized\")\n",
    "\n",
    "text = text.lower()\n",
    "text = list(text)\n",
    "text"
   ]
  },
  {
   "cell_type": "code",
   "execution_count": 16,
   "metadata": {},
   "outputs": [],
   "source": [
    "file_paths = []\n",
    "for i in range(len(text)):\n",
    "    file_paths.extend(letters[text[i]]) "
   ]
  },
  {
   "cell_type": "code",
   "execution_count": 17,
   "metadata": {},
   "outputs": [],
   "source": [
    "for file_path in file_paths:\n",
    "        pygame.mixer.music.load(file_path)\n",
    "        pygame.mixer.music.play()\n",
    "        while pygame.mixer.music.get_busy():\n",
    "            pygame.time.Clock().tick(1000)"
   ]
  },
  {
   "cell_type": "code",
   "execution_count": null,
   "metadata": {},
   "outputs": [],
   "source": []
  },
  {
   "cell_type": "code",
   "execution_count": null,
   "metadata": {},
   "outputs": [],
   "source": []
  }
 ],
 "metadata": {
  "kernelspec": {
   "display_name": "Python 3",
   "language": "python",
   "name": "python3"
  },
  "language_info": {
   "codemirror_mode": {
    "name": "ipython",
    "version": 3
   },
   "file_extension": ".py",
   "mimetype": "text/x-python",
   "name": "python",
   "nbconvert_exporter": "python",
   "pygments_lexer": "ipython3",
   "version": "3.11.7"
  }
 },
 "nbformat": 4,
 "nbformat_minor": 2
}
